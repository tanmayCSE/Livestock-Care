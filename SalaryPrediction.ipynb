{
  "cells": [
    {
      "cell_type": "markdown",
      "metadata": {
        "id": "dx-WtZSUpO0w"
      },
      "source": [
        "# Dataset\n"
      ]
    },
    {
      "cell_type": "markdown",
      "source": [],
      "metadata": {
        "id": "xhnR9TrREG5D"
      }
    },
    {
      "cell_type": "markdown",
      "metadata": {
        "id": "ah8kyfM-pNdt"
      },
      "source": [
        "https://www.kaggle.com/datasets/researcher1548/livestock-symptoms-and-diseases"
      ]
    },
    {
      "cell_type": "markdown",
      "metadata": {
        "id": "L8lKyT7sVYC-"
      },
      "source": [
        "# Import libraries and load the dataset"
      ]
    },
    {
      "cell_type": "code",
      "execution_count": 165,
      "metadata": {
        "colab": {
          "base_uri": "https://localhost:8080/"
        },
        "id": "P01-M4YBmarK",
        "outputId": "64148ae8-a290-4dd2-c5ad-344a71f626fd"
      },
      "outputs": [
        {
          "output_type": "stream",
          "name": "stdout",
          "text": [
            "Drive already mounted at /content/drive; to attempt to forcibly remount, call drive.mount(\"/content/drive\", force_remount=True).\n"
          ]
        }
      ],
      "source": [
        "# from google.colab import drive\n",
        "# drive.mount('/content/drive')"
      ]
    },
    {
      "cell_type": "code",
      "execution_count": 166,
      "metadata": {
        "id": "6Uq3mAfiTtAs"
      },
      "outputs": [],
      "source": [
        "import pandas as pd\n",
        "import numpy as np\n",
        "from sklearn.model_selection import train_test_split\n",
        "from sklearn.metrics import accuracy_score, confusion_matrix, precision_score, recall_score, f1_score\n",
        "import seaborn as sns\n",
        "import matplotlib.pyplot as plt\n",
        "from sklearn.preprocessing import LabelEncoder\n",
        "from imblearn.over_sampling import SMOTE\n",
        "from sklearn.neighbors import KNeighborsClassifier\n",
        "import xgboost as xgb\n",
        "import pickle"
      ]
    },
    {
      "cell_type": "code",
      "source": [
        "file_path = '/content/drive/MyDrive/THESIS/Datasets-20240427T172951Z-001/Datasets/cattle-disease-dataset-main.csv'\n",
        "data = pd.read_csv(file_path)"
      ],
      "metadata": {
        "id": "YLTvvNZZOg7R"
      },
      "execution_count": 167,
      "outputs": []
    },
    {
      "cell_type": "code",
      "execution_count": 168,
      "metadata": {
        "id": "40Sd2LhT1zAO",
        "colab": {
          "base_uri": "https://localhost:8080/",
          "height": 206
        },
        "outputId": "c0569f34-fe9d-4b78-8f88-a6e0fff745b7"
      },
      "outputs": [
        {
          "output_type": "execute_result",
          "data": {
            "text/plain": [
              "    Animal  Age  Temperature         Symptom 1         Symptom 2  \\\n",
              "0      cow    3        103.1        depression    painless lumps   \n",
              "1  buffalo   13        104.5    painless lumps  loss of appetite   \n",
              "2    sheep    1        100.5        depression    painless lumps   \n",
              "3      cow   14        100.3  loss of appetite  swelling in limb   \n",
              "4    sheep    2        103.6    painless lumps  loss of appetite   \n",
              "\n",
              "          Symptom 3      Disease  \n",
              "0  loss of appetite    pneumonia  \n",
              "1        depression  lumpy virus  \n",
              "2  loss of appetite  lumpy virus  \n",
              "3   crackling sound     blackleg  \n",
              "4        depression    pneumonia  "
            ],
            "text/html": [
              "\n",
              "  <div id=\"df-10ece405-aef4-498f-80ed-30526f2d57e0\" class=\"colab-df-container\">\n",
              "    <div>\n",
              "<style scoped>\n",
              "    .dataframe tbody tr th:only-of-type {\n",
              "        vertical-align: middle;\n",
              "    }\n",
              "\n",
              "    .dataframe tbody tr th {\n",
              "        vertical-align: top;\n",
              "    }\n",
              "\n",
              "    .dataframe thead th {\n",
              "        text-align: right;\n",
              "    }\n",
              "</style>\n",
              "<table border=\"1\" class=\"dataframe\">\n",
              "  <thead>\n",
              "    <tr style=\"text-align: right;\">\n",
              "      <th></th>\n",
              "      <th>Animal</th>\n",
              "      <th>Age</th>\n",
              "      <th>Temperature</th>\n",
              "      <th>Symptom 1</th>\n",
              "      <th>Symptom 2</th>\n",
              "      <th>Symptom 3</th>\n",
              "      <th>Disease</th>\n",
              "    </tr>\n",
              "  </thead>\n",
              "  <tbody>\n",
              "    <tr>\n",
              "      <th>0</th>\n",
              "      <td>cow</td>\n",
              "      <td>3</td>\n",
              "      <td>103.1</td>\n",
              "      <td>depression</td>\n",
              "      <td>painless lumps</td>\n",
              "      <td>loss of appetite</td>\n",
              "      <td>pneumonia</td>\n",
              "    </tr>\n",
              "    <tr>\n",
              "      <th>1</th>\n",
              "      <td>buffalo</td>\n",
              "      <td>13</td>\n",
              "      <td>104.5</td>\n",
              "      <td>painless lumps</td>\n",
              "      <td>loss of appetite</td>\n",
              "      <td>depression</td>\n",
              "      <td>lumpy virus</td>\n",
              "    </tr>\n",
              "    <tr>\n",
              "      <th>2</th>\n",
              "      <td>sheep</td>\n",
              "      <td>1</td>\n",
              "      <td>100.5</td>\n",
              "      <td>depression</td>\n",
              "      <td>painless lumps</td>\n",
              "      <td>loss of appetite</td>\n",
              "      <td>lumpy virus</td>\n",
              "    </tr>\n",
              "    <tr>\n",
              "      <th>3</th>\n",
              "      <td>cow</td>\n",
              "      <td>14</td>\n",
              "      <td>100.3</td>\n",
              "      <td>loss of appetite</td>\n",
              "      <td>swelling in limb</td>\n",
              "      <td>crackling sound</td>\n",
              "      <td>blackleg</td>\n",
              "    </tr>\n",
              "    <tr>\n",
              "      <th>4</th>\n",
              "      <td>sheep</td>\n",
              "      <td>2</td>\n",
              "      <td>103.6</td>\n",
              "      <td>painless lumps</td>\n",
              "      <td>loss of appetite</td>\n",
              "      <td>depression</td>\n",
              "      <td>pneumonia</td>\n",
              "    </tr>\n",
              "  </tbody>\n",
              "</table>\n",
              "</div>\n",
              "    <div class=\"colab-df-buttons\">\n",
              "\n",
              "  <div class=\"colab-df-container\">\n",
              "    <button class=\"colab-df-convert\" onclick=\"convertToInteractive('df-10ece405-aef4-498f-80ed-30526f2d57e0')\"\n",
              "            title=\"Convert this dataframe to an interactive table.\"\n",
              "            style=\"display:none;\">\n",
              "\n",
              "  <svg xmlns=\"http://www.w3.org/2000/svg\" height=\"24px\" viewBox=\"0 -960 960 960\">\n",
              "    <path d=\"M120-120v-720h720v720H120Zm60-500h600v-160H180v160Zm220 220h160v-160H400v160Zm0 220h160v-160H400v160ZM180-400h160v-160H180v160Zm440 0h160v-160H620v160ZM180-180h160v-160H180v160Zm440 0h160v-160H620v160Z\"/>\n",
              "  </svg>\n",
              "    </button>\n",
              "\n",
              "  <style>\n",
              "    .colab-df-container {\n",
              "      display:flex;\n",
              "      gap: 12px;\n",
              "    }\n",
              "\n",
              "    .colab-df-convert {\n",
              "      background-color: #E8F0FE;\n",
              "      border: none;\n",
              "      border-radius: 50%;\n",
              "      cursor: pointer;\n",
              "      display: none;\n",
              "      fill: #1967D2;\n",
              "      height: 32px;\n",
              "      padding: 0 0 0 0;\n",
              "      width: 32px;\n",
              "    }\n",
              "\n",
              "    .colab-df-convert:hover {\n",
              "      background-color: #E2EBFA;\n",
              "      box-shadow: 0px 1px 2px rgba(60, 64, 67, 0.3), 0px 1px 3px 1px rgba(60, 64, 67, 0.15);\n",
              "      fill: #174EA6;\n",
              "    }\n",
              "\n",
              "    .colab-df-buttons div {\n",
              "      margin-bottom: 4px;\n",
              "    }\n",
              "\n",
              "    [theme=dark] .colab-df-convert {\n",
              "      background-color: #3B4455;\n",
              "      fill: #D2E3FC;\n",
              "    }\n",
              "\n",
              "    [theme=dark] .colab-df-convert:hover {\n",
              "      background-color: #434B5C;\n",
              "      box-shadow: 0px 1px 3px 1px rgba(0, 0, 0, 0.15);\n",
              "      filter: drop-shadow(0px 1px 2px rgba(0, 0, 0, 0.3));\n",
              "      fill: #FFFFFF;\n",
              "    }\n",
              "  </style>\n",
              "\n",
              "    <script>\n",
              "      const buttonEl =\n",
              "        document.querySelector('#df-10ece405-aef4-498f-80ed-30526f2d57e0 button.colab-df-convert');\n",
              "      buttonEl.style.display =\n",
              "        google.colab.kernel.accessAllowed ? 'block' : 'none';\n",
              "\n",
              "      async function convertToInteractive(key) {\n",
              "        const element = document.querySelector('#df-10ece405-aef4-498f-80ed-30526f2d57e0');\n",
              "        const dataTable =\n",
              "          await google.colab.kernel.invokeFunction('convertToInteractive',\n",
              "                                                    [key], {});\n",
              "        if (!dataTable) return;\n",
              "\n",
              "        const docLinkHtml = 'Like what you see? Visit the ' +\n",
              "          '<a target=\"_blank\" href=https://colab.research.google.com/notebooks/data_table.ipynb>data table notebook</a>'\n",
              "          + ' to learn more about interactive tables.';\n",
              "        element.innerHTML = '';\n",
              "        dataTable['output_type'] = 'display_data';\n",
              "        await google.colab.output.renderOutput(dataTable, element);\n",
              "        const docLink = document.createElement('div');\n",
              "        docLink.innerHTML = docLinkHtml;\n",
              "        element.appendChild(docLink);\n",
              "      }\n",
              "    </script>\n",
              "  </div>\n",
              "\n",
              "\n",
              "<div id=\"df-3a75476a-ab2a-4e12-a9af-037f4c3990d8\">\n",
              "  <button class=\"colab-df-quickchart\" onclick=\"quickchart('df-3a75476a-ab2a-4e12-a9af-037f4c3990d8')\"\n",
              "            title=\"Suggest charts\"\n",
              "            style=\"display:none;\">\n",
              "\n",
              "<svg xmlns=\"http://www.w3.org/2000/svg\" height=\"24px\"viewBox=\"0 0 24 24\"\n",
              "     width=\"24px\">\n",
              "    <g>\n",
              "        <path d=\"M19 3H5c-1.1 0-2 .9-2 2v14c0 1.1.9 2 2 2h14c1.1 0 2-.9 2-2V5c0-1.1-.9-2-2-2zM9 17H7v-7h2v7zm4 0h-2V7h2v10zm4 0h-2v-4h2v4z\"/>\n",
              "    </g>\n",
              "</svg>\n",
              "  </button>\n",
              "\n",
              "<style>\n",
              "  .colab-df-quickchart {\n",
              "      --bg-color: #E8F0FE;\n",
              "      --fill-color: #1967D2;\n",
              "      --hover-bg-color: #E2EBFA;\n",
              "      --hover-fill-color: #174EA6;\n",
              "      --disabled-fill-color: #AAA;\n",
              "      --disabled-bg-color: #DDD;\n",
              "  }\n",
              "\n",
              "  [theme=dark] .colab-df-quickchart {\n",
              "      --bg-color: #3B4455;\n",
              "      --fill-color: #D2E3FC;\n",
              "      --hover-bg-color: #434B5C;\n",
              "      --hover-fill-color: #FFFFFF;\n",
              "      --disabled-bg-color: #3B4455;\n",
              "      --disabled-fill-color: #666;\n",
              "  }\n",
              "\n",
              "  .colab-df-quickchart {\n",
              "    background-color: var(--bg-color);\n",
              "    border: none;\n",
              "    border-radius: 50%;\n",
              "    cursor: pointer;\n",
              "    display: none;\n",
              "    fill: var(--fill-color);\n",
              "    height: 32px;\n",
              "    padding: 0;\n",
              "    width: 32px;\n",
              "  }\n",
              "\n",
              "  .colab-df-quickchart:hover {\n",
              "    background-color: var(--hover-bg-color);\n",
              "    box-shadow: 0 1px 2px rgba(60, 64, 67, 0.3), 0 1px 3px 1px rgba(60, 64, 67, 0.15);\n",
              "    fill: var(--button-hover-fill-color);\n",
              "  }\n",
              "\n",
              "  .colab-df-quickchart-complete:disabled,\n",
              "  .colab-df-quickchart-complete:disabled:hover {\n",
              "    background-color: var(--disabled-bg-color);\n",
              "    fill: var(--disabled-fill-color);\n",
              "    box-shadow: none;\n",
              "  }\n",
              "\n",
              "  .colab-df-spinner {\n",
              "    border: 2px solid var(--fill-color);\n",
              "    border-color: transparent;\n",
              "    border-bottom-color: var(--fill-color);\n",
              "    animation:\n",
              "      spin 1s steps(1) infinite;\n",
              "  }\n",
              "\n",
              "  @keyframes spin {\n",
              "    0% {\n",
              "      border-color: transparent;\n",
              "      border-bottom-color: var(--fill-color);\n",
              "      border-left-color: var(--fill-color);\n",
              "    }\n",
              "    20% {\n",
              "      border-color: transparent;\n",
              "      border-left-color: var(--fill-color);\n",
              "      border-top-color: var(--fill-color);\n",
              "    }\n",
              "    30% {\n",
              "      border-color: transparent;\n",
              "      border-left-color: var(--fill-color);\n",
              "      border-top-color: var(--fill-color);\n",
              "      border-right-color: var(--fill-color);\n",
              "    }\n",
              "    40% {\n",
              "      border-color: transparent;\n",
              "      border-right-color: var(--fill-color);\n",
              "      border-top-color: var(--fill-color);\n",
              "    }\n",
              "    60% {\n",
              "      border-color: transparent;\n",
              "      border-right-color: var(--fill-color);\n",
              "    }\n",
              "    80% {\n",
              "      border-color: transparent;\n",
              "      border-right-color: var(--fill-color);\n",
              "      border-bottom-color: var(--fill-color);\n",
              "    }\n",
              "    90% {\n",
              "      border-color: transparent;\n",
              "      border-bottom-color: var(--fill-color);\n",
              "    }\n",
              "  }\n",
              "</style>\n",
              "\n",
              "  <script>\n",
              "    async function quickchart(key) {\n",
              "      const quickchartButtonEl =\n",
              "        document.querySelector('#' + key + ' button');\n",
              "      quickchartButtonEl.disabled = true;  // To prevent multiple clicks.\n",
              "      quickchartButtonEl.classList.add('colab-df-spinner');\n",
              "      try {\n",
              "        const charts = await google.colab.kernel.invokeFunction(\n",
              "            'suggestCharts', [key], {});\n",
              "      } catch (error) {\n",
              "        console.error('Error during call to suggestCharts:', error);\n",
              "      }\n",
              "      quickchartButtonEl.classList.remove('colab-df-spinner');\n",
              "      quickchartButtonEl.classList.add('colab-df-quickchart-complete');\n",
              "    }\n",
              "    (() => {\n",
              "      let quickchartButtonEl =\n",
              "        document.querySelector('#df-3a75476a-ab2a-4e12-a9af-037f4c3990d8 button');\n",
              "      quickchartButtonEl.style.display =\n",
              "        google.colab.kernel.accessAllowed ? 'block' : 'none';\n",
              "    })();\n",
              "  </script>\n",
              "</div>\n",
              "\n",
              "    </div>\n",
              "  </div>\n"
            ],
            "application/vnd.google.colaboratory.intrinsic+json": {
              "type": "dataframe",
              "variable_name": "data",
              "summary": "{\n  \"name\": \"data\",\n  \"rows\": 43778,\n  \"fields\": [\n    {\n      \"column\": \"Animal\",\n      \"properties\": {\n        \"dtype\": \"category\",\n        \"num_unique_values\": 4,\n        \"samples\": [\n          \"buffalo\",\n          \"goat\",\n          \"cow\"\n        ],\n        \"semantic_type\": \"\",\n        \"description\": \"\"\n      }\n    },\n    {\n      \"column\": \"Age\",\n      \"properties\": {\n        \"dtype\": \"number\",\n        \"std\": 3,\n        \"min\": 1,\n        \"max\": 15,\n        \"num_unique_values\": 15,\n        \"samples\": [\n          7,\n          12,\n          3\n        ],\n        \"semantic_type\": \"\",\n        \"description\": \"\"\n      }\n    },\n    {\n      \"column\": \"Temperature\",\n      \"properties\": {\n        \"dtype\": \"number\",\n        \"std\": 1.400871719705589,\n        \"min\": 100.0,\n        \"max\": 105.0,\n        \"num_unique_values\": 51,\n        \"samples\": [\n          104.9,\n          102.2,\n          102.0\n        ],\n        \"semantic_type\": \"\",\n        \"description\": \"\"\n      }\n    },\n    {\n      \"column\": \"Symptom 1\",\n      \"properties\": {\n        \"dtype\": \"category\",\n        \"num_unique_values\": 24,\n        \"samples\": [\n          \"fatigue\",\n          \"blisters on hooves\",\n          \"depression\"\n        ],\n        \"semantic_type\": \"\",\n        \"description\": \"\"\n      }\n    },\n    {\n      \"column\": \"Symptom 2\",\n      \"properties\": {\n        \"dtype\": \"category\",\n        \"num_unique_values\": 24,\n        \"samples\": [\n          \"sores on mouth\",\n          \"chest discomfort\",\n          \"painless lumps\"\n        ],\n        \"semantic_type\": \"\",\n        \"description\": \"\"\n      }\n    },\n    {\n      \"column\": \"Symptom 3\",\n      \"properties\": {\n        \"dtype\": \"category\",\n        \"num_unique_values\": 24,\n        \"samples\": [\n          \"swelling in extremities\",\n          \"blisters on tongue\",\n          \"loss of appetite\"\n        ],\n        \"semantic_type\": \"\",\n        \"description\": \"\"\n      }\n    },\n    {\n      \"column\": \"Disease\",\n      \"properties\": {\n        \"dtype\": \"category\",\n        \"num_unique_values\": 5,\n        \"samples\": [\n          \"lumpy virus\",\n          \"anthrax\",\n          \"blackleg\"\n        ],\n        \"semantic_type\": \"\",\n        \"description\": \"\"\n      }\n    }\n  ]\n}"
            }
          },
          "metadata": {},
          "execution_count": 168
        }
      ],
      "source": [
        "data.head(5)"
      ]
    },
    {
      "cell_type": "code",
      "source": [
        "print(f\"Pneumonia: {(data['Disease'] == 'pneumonia').sum()}\")\n",
        "print(f\"Blackleg: {(data['Disease'] == 'blackleg').sum()}\")\n",
        "print(f\"Foot and Mouth: {(data['Disease'] == 'foot and mouth').sum()}\")\n",
        "print(f\"Anthrax: {(data['Disease'] == 'anthrax').sum()}\")\n",
        "print(f\"Lumpy Virus: {(data['Disease'] == 'lumpy virus').sum()}\")"
      ],
      "metadata": {
        "colab": {
          "base_uri": "https://localhost:8080/"
        },
        "id": "Sx94G8yaOyOh",
        "outputId": "b5dc3fbf-6259-4542-8a43-b08f5cded5d1"
      },
      "execution_count": 169,
      "outputs": [
        {
          "output_type": "stream",
          "name": "stdout",
          "text": [
            "Pneumonia: 7330\n",
            "Blackleg: 9713\n",
            "Foot and Mouth: 9701\n",
            "Anthrax: 9842\n",
            "Lumpy Virus: 7192\n"
          ]
        }
      ]
    },
    {
      "cell_type": "code",
      "source": [
        "print(data.shape)\n",
        "print(data.info())\n",
        "print(data.describe().T)"
      ],
      "metadata": {
        "colab": {
          "base_uri": "https://localhost:8080/"
        },
        "id": "pjj_kddIO6sv",
        "outputId": "ee6cf199-5768-4fe6-dd11-a0235421ba95"
      },
      "execution_count": 170,
      "outputs": [
        {
          "output_type": "stream",
          "name": "stdout",
          "text": [
            "(43778, 7)\n",
            "<class 'pandas.core.frame.DataFrame'>\n",
            "RangeIndex: 43778 entries, 0 to 43777\n",
            "Data columns (total 7 columns):\n",
            " #   Column       Non-Null Count  Dtype  \n",
            "---  ------       --------------  -----  \n",
            " 0   Animal       43778 non-null  object \n",
            " 1   Age          43778 non-null  int64  \n",
            " 2   Temperature  43778 non-null  float64\n",
            " 3   Symptom 1    43778 non-null  object \n",
            " 4   Symptom 2    43778 non-null  object \n",
            " 5   Symptom 3    43778 non-null  object \n",
            " 6   Disease      43778 non-null  object \n",
            "dtypes: float64(1), int64(1), object(5)\n",
            "memory usage: 2.3+ MB\n",
            "None\n",
            "               count        mean       std    min    25%    50%    75%    max\n",
            "Age          43778.0    6.769131  3.886739    1.0    4.0    7.0   10.0   15.0\n",
            "Temperature  43778.0  102.269590  1.400872  100.0  101.1  102.2  103.4  105.0\n"
          ]
        }
      ]
    },
    {
      "cell_type": "code",
      "source": [
        "all_animals = data['Animal'].unique()\n",
        "print(f'Animals: {all_animals}\\nNumber of animals = {len(all_animals)}')\n",
        "\n",
        "all_diseases = data['Disease'].unique()\n",
        "print(f'Diseases: {all_diseases}\\nNumber of diseases = {len(all_diseases)}')"
      ],
      "metadata": {
        "colab": {
          "base_uri": "https://localhost:8080/"
        },
        "id": "Zg7vtgyIPCLp",
        "outputId": "55df71a9-56ef-4f81-b4be-d9ecd166f01e"
      },
      "execution_count": 171,
      "outputs": [
        {
          "output_type": "stream",
          "name": "stdout",
          "text": [
            "Animals: ['cow' 'buffalo' 'sheep' 'goat']\n",
            "Number of animals = 4\n",
            "Diseases: ['pneumonia' 'lumpy virus' 'blackleg' 'foot and mouth' 'anthrax']\n",
            "Number of diseases = 5\n"
          ]
        }
      ]
    },
    {
      "cell_type": "code",
      "source": [
        "def unique_symptoms(data):\n",
        "    symptom_features = ['Symptom 1', 'Symptom 2', 'Symptom 3']\n",
        "    for symptom in symptom_features:\n",
        "        unique_sym = data[symptom].unique()\n",
        "        print(f\"{symptom}: {np.sort(unique_sym)}\\nTotal = {len(unique_sym)}\\n\")\n",
        "\n",
        "unique_symptoms(data)"
      ],
      "metadata": {
        "colab": {
          "base_uri": "https://localhost:8080/"
        },
        "id": "cvGWnu7iPIei",
        "outputId": "15f20e7e-8db0-412f-ebfd-1af9d6e032c2"
      },
      "execution_count": 172,
      "outputs": [
        {
          "output_type": "stream",
          "name": "stdout",
          "text": [
            "Symptom 1: ['blisters on gums' 'blisters on hooves' 'blisters on mouth'\n",
            " 'blisters on tongue' 'chest discomfort' 'chills' 'crackling sound'\n",
            " 'depression' 'difficulty walking' 'fatigue' 'lameness' 'loss of appetite'\n",
            " 'painless lumps' 'shortness of breath' 'sores on gums' 'sores on hooves'\n",
            " 'sores on mouth' 'sores on tongue' 'sweats' 'swelling in abdomen'\n",
            " 'swelling in extremities' 'swelling in limb' 'swelling in muscle'\n",
            " 'swelling in neck']\n",
            "Total = 24\n",
            "\n",
            "Symptom 2: ['blisters on gums' 'blisters on hooves' 'blisters on mouth'\n",
            " 'blisters on tongue' 'chest discomfort' 'chills' 'crackling sound'\n",
            " 'depression' 'difficulty walking' 'fatigue' 'lameness' 'loss of appetite'\n",
            " 'painless lumps' 'shortness of breath' 'sores on gums' 'sores on hooves'\n",
            " 'sores on mouth' 'sores on tongue' 'sweats' 'swelling in abdomen'\n",
            " 'swelling in extremities' 'swelling in limb' 'swelling in muscle'\n",
            " 'swelling in neck']\n",
            "Total = 24\n",
            "\n",
            "Symptom 3: ['blisters on gums' 'blisters on hooves' 'blisters on mouth'\n",
            " 'blisters on tongue' 'chest discomfort' 'chills' 'crackling sound'\n",
            " 'depression' 'difficulty walking' 'fatigue' 'lameness' 'loss of appetite'\n",
            " 'painless lumps' 'shortness of breath' 'sores on gums' 'sores on hooves'\n",
            " 'sores on mouth' 'sores on tongue' 'sweats' 'swelling in abdomen'\n",
            " 'swelling in extremities' 'swelling in limb' 'swelling in muscle'\n",
            " 'swelling in neck']\n",
            "Total = 24\n",
            "\n"
          ]
        }
      ]
    },
    {
      "cell_type": "code",
      "source": [
        "plt.figure(figsize=(6, 6))\n",
        "sns.countplot(data=data, x='Disease', hue='Animal', palette='Blues')\n",
        "plt.title('Distribution of Diseases by Animal Type')\n",
        "plt.xlabel('Disease')\n",
        "plt.ylabel('Count')\n",
        "plt.xticks(rotation=45)\n",
        "plt.legend(title='Animal Type')\n",
        "plt.show()"
      ],
      "metadata": {
        "colab": {
          "base_uri": "https://localhost:8080/",
          "height": 636
        },
        "id": "Eyt2cpQNPPLN",
        "outputId": "5322bde7-288d-46f9-ec86-27c5812e4014"
      },
      "execution_count": 173,
      "outputs": [
        {
          "output_type": "display_data",
          "data": {
            "text/plain": [
              "<Figure size 600x600 with 1 Axes>"
            ],
            "image/png": "[encoded data removed]"
          },
          "metadata": {}
        }
      ]
    },
    {
      "cell_type": "code",
      "source": [
        "plt.figure(figsize=(6, 6))\n",
        "sns.countplot(data=data, x='Animal', hue='Disease', palette='Blues')\n",
        "plt.title('Distribution of Animals by Disease')\n",
        "plt.xlabel('Animal')\n",
        "plt.ylabel('Count')\n",
        "plt.xticks(rotation=45)\n",
        "plt.legend(title='Disease Type')\n",
        "plt.show()"
      ],
      "metadata": {
        "colab": {
          "base_uri": "https://localhost:8080/",
          "height": 594
        },
        "id": "PCdA84-dPaAb",
        "outputId": "aff8ad2f-9a20-45f7-8416-9f1a2972ee40"
      },
      "execution_count": 174,
      "outputs": [
        {
          "output_type": "display_data",
          "data": {
            "text/plain": [
              "<Figure size 600x600 with 1 Axes>"
            ],
            "image/png": "[encoded data removed]"
          },
          "metadata": {}
        }
      ]
    },
    {
      "cell_type": "code",
      "source": [
        "plt.figure(figsize=(6, 6))\n",
        "sns.countplot(data=data, x='Disease', palette='Blues')\n",
        "plt.title('Frequency of Each Disease')\n",
        "plt.xlabel('Disease')\n",
        "plt.ylabel('Count')\n",
        "plt.xticks(rotation=45)\n",
        "plt.show()"
      ],
      "metadata": {
        "colab": {
          "base_uri": "https://localhost:8080/",
          "height": 725
        },
        "id": "iOfgMS1oPdcw",
        "outputId": "d28cfc0b-3d71-4ed5-86bf-b4d575951bfe"
      },
      "execution_count": 175,
      "outputs": [
        {
          "output_type": "stream",
          "name": "stderr",
          "text": [
            "<ipython-input-175-78e80c3c71b0>:2: FutureWarning: \n",
            "\n",
            "Passing `palette` without assigning `hue` is deprecated and will be removed in v0.14.0. Assign the `x` variable to `hue` and set `legend=False` for the same effect.\n",
            "\n",
            "  sns.countplot(data=data, x='Disease', palette='Blues')\n"
          ]
        },
        {
          "output_type": "display_data",
          "data": {
            "text/plain": [
              "<Figure size 600x600 with 1 Axes>"
            ],
            "image/png": "[encoded data removed]"
          },
          "metadata": {}
        }
      ]
    },
    {
      "cell_type": "markdown",
      "metadata": {
        "id": "uQCWNQFsVhcM"
      },
      "source": [
        "# Preprocessing"
      ]
    },
    {
      "cell_type": "code",
      "source": [
        "from sklearn.preprocessing import LabelEncoder\n",
        "\n",
        "# Add a special category for unknown values\n",
        "def fit_label_encoder_with_unknown(data_column):\n",
        "    unique_values = list(data_column.unique()) + [\"unknown\"]\n",
        "    encoder = LabelEncoder()\n",
        "    encoder.fit(unique_values)\n",
        "    return encoder\n",
        "\n",
        "# Fit encoders for each categorical column\n",
        "label_encoders = {\n",
        "    \"Animal\": fit_label_encoder_with_unknown(data[\"Animal\"]),\n",
        "    \"Temperature\": fit_label_encoder_with_unknown(data[\"Temperature\"]),\n",
        "    \"Symptom 1\": fit_label_encoder_with_unknown(data[\"Symptom 1\"]),\n",
        "    \"Symptom 2\": fit_label_encoder_with_unknown(data[\"Symptom 2\"]),\n",
        "    \"Symptom 3\": fit_label_encoder_with_unknown(data[\"Symptom 3\"]),\n",
        "    \"Disease\": fit_label_encoder_with_unknown(data[\"Disease\"])\n",
        "}"
      ],
      "metadata": {
        "id": "r3Jgl17mPU2_"
      },
      "execution_count": 176,
      "outputs": []
    },
    {
      "cell_type": "code",
      "source": [
        "X = data[['Animal', 'Age', 'Temperature', 'Symptom 1', 'Symptom 2', 'Symptom 3']]\n",
        "y = data['Disease']\n",
        "\n",
        "X_train, X_test, y_train, y_test = train_test_split(X, y, test_size=0.3, random_state=42)\n",
        "\n",
        "print(X_train.shape)\n",
        "print(X_test.shape)\n",
        "print(y_train.shape)\n",
        "print(y_test.shape)"
      ],
      "metadata": {
        "colab": {
          "base_uri": "https://localhost:8080/"
        },
        "id": "Ar5JDhSePlxC",
        "outputId": "4c5e07ad-d374-4797-fdc8-f1b3b1aa0e95"
      },
      "execution_count": 177,
      "outputs": [
        {
          "output_type": "stream",
          "name": "stdout",
          "text": [
            "(30644, 6)\n",
            "(13134, 6)\n",
            "(30644,)\n",
            "(13134,)\n"
          ]
        }
      ]
    },
    {
      "cell_type": "markdown",
      "metadata": {
        "id": "tuei5gyDWlvD"
      },
      "source": [
        "# Data Visualization"
      ]
    },
    {
      "cell_type": "code",
      "execution_count": 178,
      "metadata": {
        "id": "7cwK3qfPmD-w",
        "colab": {
          "base_uri": "https://localhost:8080/",
          "height": 468
        },
        "outputId": "71561411-01c5-4704-a6eb-49797a44417f"
      },
      "outputs": [
        {
          "output_type": "display_data",
          "data": {
            "text/plain": [
              "<Figure size 1200x500 with 2 Axes>"
            ],
            "image/png": "[encoded data removed]"
          },
          "metadata": {}
        }
      ],
      "source": [
        "import matplotlib.pyplot as plt\n",
        "import seaborn as sns\n",
        "\n",
        "# Select only numeric columns for correlation\n",
        "numeric_data = data.select_dtypes(include=[float, int])\n",
        "\n",
        "# Calculate the correlation matrix\n",
        "corr = numeric_data.corr()\n",
        "\n",
        "# Create a mask to hide the upper triangle of the heatmap (optional)\n",
        "mask = np.triu(corr)\n",
        "\n",
        "# Plot the heatmap\n",
        "plt.figure(figsize=(12, 5))\n",
        "sns.heatmap(corr, annot=True, mask=mask, cmap=\"coolwarm\")\n",
        "plt.title(\"Correlation Heatmap\")\n",
        "plt.show()"
      ]
    },
    {
      "cell_type": "markdown",
      "metadata": {
        "id": "HnQ6-ZhYXHwT"
      },
      "source": [
        "# Basic Models"
      ]
    },
    {
      "cell_type": "markdown",
      "metadata": {
        "id": "uonGvP6RXuFe"
      },
      "source": [
        "**XGBOOST**"
      ]
    },
    {
      "cell_type": "code",
      "execution_count": 179,
      "metadata": {
        "id": "cj-MScNeX4Am",
        "colab": {
          "base_uri": "https://localhost:8080/",
          "height": 543
        },
        "outputId": "47cadd88-f1cd-47be-d4dd-e8d3994a444d"
      },
      "outputs": [
        {
          "output_type": "display_data",
          "data": {
            "text/plain": [
              "<Figure size 640x480 with 1 Axes>"
            ],
            "image/png": "[encoded data removed]"
          },
          "metadata": {}
        },
        {
          "output_type": "stream",
          "name": "stdout",
          "text": [
            "XGBoost Accuracy: 0.7878787878787878\n",
            "XGBoost Precision: 0.7878621864937599\n",
            "XGBoost Recall: 0.7878787878787878\n",
            "XGBoost F1 Score: 0.787861461622045\n"
          ]
        }
      ],
      "source": [
        "from sklearn.preprocessing import LabelEncoder\n",
        "from sklearn.metrics import confusion_matrix, accuracy_score, precision_score, recall_score, f1_score\n",
        "import seaborn as sns\n",
        "import matplotlib.pyplot as plt\n",
        "import xgboost as xgb\n",
        "import pandas as pd\n",
        "\n",
        "# Assuming 'data' is your DataFrame and 'Disease' is the target column\n",
        "\n",
        "# Encode categorical columns\n",
        "categorical_columns = ['Animal', 'Symptom 1', 'Symptom 2', 'Symptom 3']\n",
        "label_encoders = {}\n",
        "\n",
        "for column in categorical_columns:\n",
        "    le = LabelEncoder()\n",
        "    X_train[column] = le.fit_transform(X_train[column])\n",
        "    X_test[column] = le.transform(X_test[column])\n",
        "    label_encoders[column] = le\n",
        "\n",
        "# Encode the target variable (Disease)\n",
        "label_encoder = LabelEncoder()\n",
        "y_train_encoded = label_encoder.fit_transform(y_train)\n",
        "y_test_encoded = label_encoder.transform(y_test)\n",
        "\n",
        "# Function to train XGBoost classifier\n",
        "def train_xgboost(X_train, y_train, **params):\n",
        "    xgb_classifier = xgb.XGBClassifier(**params)\n",
        "    xgb_classifier.fit(X_train, y_train)\n",
        "    return xgb_classifier\n",
        "\n",
        "# XGBoost parameters\n",
        "xgb_params = {\n",
        "    'n_estimators': 100,\n",
        "    'learning_rate': 0.2,\n",
        "    'max_depth': 10,\n",
        "    'random_state': 42,\n",
        "    'eval_metric': 'logloss'\n",
        "}\n",
        "\n",
        "# Train the XGBoost classifier\n",
        "xgb_classifier = train_xgboost(X_train, y_train_encoded, **xgb_params)\n",
        "\n",
        "# Predict using the trained model\n",
        "y_pred_xgb = xgb_classifier.predict(X_test)\n",
        "\n",
        "# Confusion Matrix\n",
        "conf_matrix_xgb = confusion_matrix(y_test_encoded, y_pred_xgb)\n",
        "sns.heatmap(conf_matrix_xgb, annot=True, fmt=\"d\", cmap=\"Blues\", cbar=False)\n",
        "plt.xlabel(\"Predicted\")\n",
        "plt.ylabel(\"Actual\")\n",
        "plt.title(\"Confusion Matrix - XGBoost\")\n",
        "plt.show()\n",
        "\n",
        "# Performance Metrics\n",
        "accuracy_xgb = accuracy_score(y_test_encoded, y_pred_xgb)\n",
        "precision_xgb = precision_score(y_test_encoded, y_pred_xgb, average='weighted')\n",
        "recall_xgb = recall_score(y_test_encoded, y_pred_xgb, average='weighted')\n",
        "f1_xgb = f1_score(y_test_encoded, y_pred_xgb, average='weighted')\n",
        "\n",
        "print(f\"XGBoost Accuracy: {accuracy_xgb}\")\n",
        "print(f\"XGBoost Precision: {precision_xgb}\")\n",
        "print(f\"XGBoost Recall: {recall_xgb}\")\n",
        "print(f\"XGBoost F1 Score: {f1_xgb}\")\n"
      ]
    },
    {
      "cell_type": "markdown",
      "source": [
        "# SAVE MODEL"
      ],
      "metadata": {
        "id": "-v9bMR1Uh80S"
      }
    },
    {
      "cell_type": "code",
      "source": [
        "saved_steps = {\n",
        "    'xgb_model': xgb_classifier,\n",
        "    'label_encoders': label_encoders\n",
        "}\n",
        "\n",
        "with open('saved_steps.pkl', 'wb') as file:\n",
        "    pickle.dump(saved_steps, file)"
      ],
      "metadata": {
        "id": "RVCZCzOUQZUT"
      },
      "execution_count": 180,
      "outputs": []
    },
    {
      "cell_type": "markdown",
      "source": [
        "#SAMPLE INPUT OUTPUT"
      ],
      "metadata": {
        "id": "04tlbVkdQy4i"
      }
    },
    {
      "cell_type": "code",
      "source": [
        "import pickle\n",
        "import numpy as np\n",
        "from sklearn.preprocessing import LabelEncoder\n",
        "\n",
        "# Load the saved models and encoders\n",
        "with open('saved_steps.pkl', 'rb') as file:\n",
        "    saved_objects = pickle.load(file)\n",
        "\n",
        "xgb_model = saved_objects['xgb_model']\n",
        "label_encoders = saved_objects['label_encoders']\n",
        "\n",
        "# Use the disease labels from the saved objects if available\n",
        "if 'disease_labels' in saved_objects:\n",
        "    disease_labels = saved_objects['disease_labels']\n",
        "else:\n",
        "    disease_labels = ['anthrax', 'blackleg', 'foot and mouth', 'lumpy virus', 'pneumonia']  # Default fallback\n",
        "\n",
        "disease_encoder = LabelEncoder()\n",
        "disease_encoder.fit(disease_labels)\n",
        "\n",
        "# Define a sample input\n",
        "sample_data = {\n",
        "    'Animal': 'sheep',\n",
        "    'Age': 3,\n",
        "    'Temperature': '103.0',\n",
        "    'Symptom 1': 'chills',\n",
        "    'Symptom 2': 'sores on hooves',\n",
        "    'Symptom 3': 'sweats'\n",
        "}\n",
        "\n",
        "# Encode the sample input\n",
        "def safe_transform_with_unknown(encoder, value):\n",
        "    if value not in encoder.classes_:\n",
        "        return -1  # Return a placeholder for unknown values\n",
        "    return encoder.transform([value])[0]\n",
        "\n",
        "encoded_input = [\n",
        "    safe_transform_with_unknown(label_encoders['Animal'], sample_data['Animal']),\n",
        "    sample_data['Age'],  # Age is numeric, no encoding needed\n",
        "    float(sample_data['Temperature']),  # Convert Temperature to float\n",
        "    safe_transform_with_unknown(label_encoders['Symptom 1'], sample_data['Symptom 1']),\n",
        "    safe_transform_with_unknown(label_encoders['Symptom 2'], sample_data['Symptom 2']),\n",
        "    safe_transform_with_unknown(label_encoders['Symptom 3'], sample_data['Symptom 3']),\n",
        "]\n",
        "\n",
        "# Reshape the input to fit the model\n",
        "encoded_input = np.array(encoded_input).reshape(1, -1)\n",
        "\n",
        "# Predict with XGBoost and display the disease prediction\n",
        "xgb_prediction = xgb_model.predict(encoded_input)\n",
        "xgb_disease = disease_encoder.inverse_transform(xgb_prediction)\n",
        "print(f\"Predicted Disease (XGBoost): {xgb_disease[0]}\")\n"
      ],
      "metadata": {
        "colab": {
          "base_uri": "https://localhost:8080/"
        },
        "id": "pYCeS3QYQ5KZ",
        "outputId": "f30fa9a9-0a15-4f74-beb4-753b00b7ff61"
      },
      "execution_count": 181,
      "outputs": [
        {
          "output_type": "stream",
          "name": "stdout",
          "text": [
            "Predicted Disease (XGBoost): anthrax\n"
          ]
        }
      ]
    },
    {
      "cell_type": "code",
      "source": [
        "# # SAMPLE INPUT\n",
        "# input_arr = [['cow', 3, '103.0', 'swelling in limb', 'painful mouth', 'difficulty walking']]\n",
        "\n",
        "# df = pd.DataFrame(input_arr, columns=['Animal', 'Age', 'Temperature','Symptom 1', 'Symptom 2', 'Symptom 3'])\n",
        "# print(df)"
      ],
      "metadata": {
        "id": "hAsX9wUzobSS"
      },
      "execution_count": 182,
      "outputs": []
    },
    {
      "cell_type": "code",
      "source": [
        "# for column in ['Animal',  'Temperature','Symptom 1', 'Symptom 2', 'Symptom 3']:\n",
        "\n",
        "#     df[column] = label_encoders[column].transform(df[column])\n",
        "\n",
        "# print(df)"
      ],
      "metadata": {
        "id": "5pOSd5wsjlGa"
      },
      "execution_count": 183,
      "outputs": []
    },
    {
      "cell_type": "code",
      "source": [
        "# # Evaluate the single input sample\n",
        "# predictions = xgb_classifier.predict(df)\n",
        "\n",
        "# d = {0:'pneumonia', 1:'lumpy virus', 2:'blackleg',3:'foot and mouth', 4:'anthrax'}\n",
        "\n",
        "# print(d[predictions[0]])\n",
        "# #print(predictions)"
      ],
      "metadata": {
        "id": "PO0IFKh5kFNF"
      },
      "execution_count": 184,
      "outputs": []
    }
  ],
  "metadata": {
    "colab": {
      "provenance": []
    },
    "kernelspec": {
      "display_name": "Python 3",
      "name": "python3"
    },
    "language_info": {
      "name": "python"
    }
  },
  "nbformat": 4,
  "nbformat_minor": 0
}